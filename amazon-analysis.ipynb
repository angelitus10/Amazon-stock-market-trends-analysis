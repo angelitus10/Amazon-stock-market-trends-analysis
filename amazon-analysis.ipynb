{
 "cells": [
  {
   "cell_type": "markdown",
   "metadata": {},
   "source": [
    "start exercice"
   ]
  },
  {
   "cell_type": "code",
   "execution_count": 79,
   "metadata": {},
   "outputs": [],
   "source": [
    "import pandas as pd\n",
    "import seaborn as sns\n",
    "import matplotlib.pyplot as plt\n",
    "import numpy as np\n"
   ]
  },
  {
   "cell_type": "code",
   "execution_count": 23,
   "metadata": {},
   "outputs": [
    {
     "name": "stdout",
     "output_type": "stream",
     "text": [
      "        Price           Adj Close               Close                High  \\\n",
      "0      Ticker                AMZN                AMZN                AMZN   \n",
      "1  2015-01-02  15.425999641418457  15.425999641418457  15.737500190734863   \n",
      "2  2015-01-05   15.10949993133545   15.10949993133545  15.418999671936035   \n",
      "3  2015-01-06   14.76449966430664   14.76449966430664  15.149999618530273   \n",
      "4  2015-01-07  14.920999526977539  14.920999526977539  15.064000129699707   \n",
      "\n",
      "                  Low                Open    Volume  \n",
      "0                AMZN                AMZN      AMZN  \n",
      "1  15.347999572753906  15.628999710083008  55664000  \n",
      "2  15.042499542236328  15.350500106811523  55484000  \n",
      "3  14.619000434875488  15.112000465393066  70380000  \n",
      "4  14.766500473022461              14.875  52806000  \n"
     ]
    }
   ],
   "source": [
    "df=pd.read_csv(\"AMZN.csv\")\n",
    "print(df.head(5))"
   ]
  },
  {
   "cell_type": "code",
   "execution_count": 24,
   "metadata": {},
   "outputs": [
    {
     "name": "stdout",
     "output_type": "stream",
     "text": [
      "<class 'pandas.core.frame.DataFrame'>\n",
      "RangeIndex: 2498 entries, 0 to 2497\n",
      "Data columns (total 7 columns):\n",
      " #   Column     Non-Null Count  Dtype \n",
      "---  ------     --------------  ----- \n",
      " 0   Price      2498 non-null   object\n",
      " 1   Adj Close  2498 non-null   object\n",
      " 2   Close      2498 non-null   object\n",
      " 3   High       2498 non-null   object\n",
      " 4   Low        2498 non-null   object\n",
      " 5   Open       2498 non-null   object\n",
      " 6   Volume     2498 non-null   object\n",
      "dtypes: object(7)\n",
      "memory usage: 136.7+ KB\n"
     ]
    }
   ],
   "source": [
    "df.info()"
   ]
  },
  {
   "cell_type": "markdown",
   "metadata": {},
   "source": [
    "As we can see, all the data is of the 'object' type. This could be a hindrance when performing mathematical operations, so we will convert the relevant data to a numeric type in the following steps."
   ]
  },
  {
   "cell_type": "code",
   "execution_count": 25,
   "metadata": {},
   "outputs": [
    {
     "data": {
      "text/plain": [
       "(2498, 7)"
      ]
     },
     "execution_count": 25,
     "metadata": {},
     "output_type": "execute_result"
    }
   ],
   "source": [
    "df.shape"
   ]
  },
  {
   "cell_type": "code",
   "execution_count": 26,
   "metadata": {},
   "outputs": [
    {
     "data": {
      "text/html": [
       "<div>\n",
       "<style scoped>\n",
       "    .dataframe tbody tr th:only-of-type {\n",
       "        vertical-align: middle;\n",
       "    }\n",
       "\n",
       "    .dataframe tbody tr th {\n",
       "        vertical-align: top;\n",
       "    }\n",
       "\n",
       "    .dataframe thead th {\n",
       "        text-align: right;\n",
       "    }\n",
       "</style>\n",
       "<table border=\"1\" class=\"dataframe\">\n",
       "  <thead>\n",
       "    <tr style=\"text-align: right;\">\n",
       "      <th></th>\n",
       "      <th>Price</th>\n",
       "      <th>Adj Close</th>\n",
       "      <th>Close</th>\n",
       "      <th>High</th>\n",
       "      <th>Low</th>\n",
       "      <th>Open</th>\n",
       "      <th>Volume</th>\n",
       "    </tr>\n",
       "  </thead>\n",
       "  <tbody>\n",
       "    <tr>\n",
       "      <th>count</th>\n",
       "      <td>2498</td>\n",
       "      <td>2498</td>\n",
       "      <td>2498</td>\n",
       "      <td>2498</td>\n",
       "      <td>2498</td>\n",
       "      <td>2498</td>\n",
       "      <td>2498</td>\n",
       "    </tr>\n",
       "    <tr>\n",
       "      <th>unique</th>\n",
       "      <td>2498</td>\n",
       "      <td>2451</td>\n",
       "      <td>2451</td>\n",
       "      <td>2436</td>\n",
       "      <td>2443</td>\n",
       "      <td>2403</td>\n",
       "      <td>2466</td>\n",
       "    </tr>\n",
       "    <tr>\n",
       "      <th>top</th>\n",
       "      <td>2024-12-03</td>\n",
       "      <td>125.9800033569336</td>\n",
       "      <td>125.9800033569336</td>\n",
       "      <td>124.4000015258789</td>\n",
       "      <td>49.099998474121094</td>\n",
       "      <td>81.1500015258789</td>\n",
       "      <td>60512000</td>\n",
       "    </tr>\n",
       "    <tr>\n",
       "      <th>freq</th>\n",
       "      <td>1</td>\n",
       "      <td>3</td>\n",
       "      <td>3</td>\n",
       "      <td>3</td>\n",
       "      <td>4</td>\n",
       "      <td>3</td>\n",
       "      <td>3</td>\n",
       "    </tr>\n",
       "  </tbody>\n",
       "</table>\n",
       "</div>"
      ],
      "text/plain": [
       "             Price          Adj Close              Close               High  \\\n",
       "count         2498               2498               2498               2498   \n",
       "unique        2498               2451               2451               2436   \n",
       "top     2024-12-03  125.9800033569336  125.9800033569336  124.4000015258789   \n",
       "freq             1                  3                  3                  3   \n",
       "\n",
       "                       Low              Open    Volume  \n",
       "count                 2498              2498      2498  \n",
       "unique                2443              2403      2466  \n",
       "top     49.099998474121094  81.1500015258789  60512000  \n",
       "freq                     4                 3         3  "
      ]
     },
     "execution_count": 26,
     "metadata": {},
     "output_type": "execute_result"
    }
   ],
   "source": [
    "df.describe()"
   ]
  },
  {
   "cell_type": "code",
   "execution_count": 27,
   "metadata": {},
   "outputs": [
    {
     "data": {
      "text/plain": [
       "np.int64(0)"
      ]
     },
     "execution_count": 27,
     "metadata": {},
     "output_type": "execute_result"
    }
   ],
   "source": [
    "df.duplicated().sum()"
   ]
  },
  {
   "cell_type": "code",
   "execution_count": 28,
   "metadata": {},
   "outputs": [
    {
     "data": {
      "text/html": [
       "<div>\n",
       "<style scoped>\n",
       "    .dataframe tbody tr th:only-of-type {\n",
       "        vertical-align: middle;\n",
       "    }\n",
       "\n",
       "    .dataframe tbody tr th {\n",
       "        vertical-align: top;\n",
       "    }\n",
       "\n",
       "    .dataframe thead th {\n",
       "        text-align: right;\n",
       "    }\n",
       "</style>\n",
       "<table border=\"1\" class=\"dataframe\">\n",
       "  <thead>\n",
       "    <tr style=\"text-align: right;\">\n",
       "      <th></th>\n",
       "      <th>Price</th>\n",
       "      <th>Adj Close</th>\n",
       "      <th>Close</th>\n",
       "      <th>High</th>\n",
       "      <th>Low</th>\n",
       "      <th>Open</th>\n",
       "      <th>Volume</th>\n",
       "    </tr>\n",
       "  </thead>\n",
       "  <tbody>\n",
       "    <tr>\n",
       "      <th>0</th>\n",
       "      <td>Ticker</td>\n",
       "      <td>AMZN</td>\n",
       "      <td>AMZN</td>\n",
       "      <td>AMZN</td>\n",
       "      <td>AMZN</td>\n",
       "      <td>AMZN</td>\n",
       "      <td>AMZN</td>\n",
       "    </tr>\n",
       "    <tr>\n",
       "      <th>1</th>\n",
       "      <td>2015-01-02</td>\n",
       "      <td>15.425999641418457</td>\n",
       "      <td>15.425999641418457</td>\n",
       "      <td>15.737500190734863</td>\n",
       "      <td>15.347999572753906</td>\n",
       "      <td>15.628999710083008</td>\n",
       "      <td>55664000</td>\n",
       "    </tr>\n",
       "    <tr>\n",
       "      <th>2</th>\n",
       "      <td>2015-01-05</td>\n",
       "      <td>15.10949993133545</td>\n",
       "      <td>15.10949993133545</td>\n",
       "      <td>15.418999671936035</td>\n",
       "      <td>15.042499542236328</td>\n",
       "      <td>15.350500106811523</td>\n",
       "      <td>55484000</td>\n",
       "    </tr>\n",
       "    <tr>\n",
       "      <th>3</th>\n",
       "      <td>2015-01-06</td>\n",
       "      <td>14.76449966430664</td>\n",
       "      <td>14.76449966430664</td>\n",
       "      <td>15.149999618530273</td>\n",
       "      <td>14.619000434875488</td>\n",
       "      <td>15.112000465393066</td>\n",
       "      <td>70380000</td>\n",
       "    </tr>\n",
       "    <tr>\n",
       "      <th>4</th>\n",
       "      <td>2015-01-07</td>\n",
       "      <td>14.920999526977539</td>\n",
       "      <td>14.920999526977539</td>\n",
       "      <td>15.064000129699707</td>\n",
       "      <td>14.766500473022461</td>\n",
       "      <td>14.875</td>\n",
       "      <td>52806000</td>\n",
       "    </tr>\n",
       "    <tr>\n",
       "      <th>...</th>\n",
       "      <td>...</td>\n",
       "      <td>...</td>\n",
       "      <td>...</td>\n",
       "      <td>...</td>\n",
       "      <td>...</td>\n",
       "      <td>...</td>\n",
       "      <td>...</td>\n",
       "    </tr>\n",
       "    <tr>\n",
       "      <th>2493</th>\n",
       "      <td>2024-11-26</td>\n",
       "      <td>207.86000061035156</td>\n",
       "      <td>207.86000061035156</td>\n",
       "      <td>208.0</td>\n",
       "      <td>201.7899932861328</td>\n",
       "      <td>201.89999389648438</td>\n",
       "      <td>41673700</td>\n",
       "    </tr>\n",
       "    <tr>\n",
       "      <th>2494</th>\n",
       "      <td>2024-11-27</td>\n",
       "      <td>205.74000549316406</td>\n",
       "      <td>205.74000549316406</td>\n",
       "      <td>207.63999938964844</td>\n",
       "      <td>205.0500030517578</td>\n",
       "      <td>206.97999572753906</td>\n",
       "      <td>28061600</td>\n",
       "    </tr>\n",
       "    <tr>\n",
       "      <th>2495</th>\n",
       "      <td>2024-11-29</td>\n",
       "      <td>207.88999938964844</td>\n",
       "      <td>207.88999938964844</td>\n",
       "      <td>208.1999969482422</td>\n",
       "      <td>204.58999633789062</td>\n",
       "      <td>205.8300018310547</td>\n",
       "      <td>24892400</td>\n",
       "    </tr>\n",
       "    <tr>\n",
       "      <th>2496</th>\n",
       "      <td>2024-12-02</td>\n",
       "      <td>210.7100067138672</td>\n",
       "      <td>210.7100067138672</td>\n",
       "      <td>212.99000549316406</td>\n",
       "      <td>209.50999450683594</td>\n",
       "      <td>209.9600067138672</td>\n",
       "      <td>39523200</td>\n",
       "    </tr>\n",
       "    <tr>\n",
       "      <th>2497</th>\n",
       "      <td>2024-12-03</td>\n",
       "      <td>213.44000244140625</td>\n",
       "      <td>213.44000244140625</td>\n",
       "      <td>214.02000427246094</td>\n",
       "      <td>209.64999389648438</td>\n",
       "      <td>210.30999755859375</td>\n",
       "      <td>32140500</td>\n",
       "    </tr>\n",
       "  </tbody>\n",
       "</table>\n",
       "<p>2498 rows × 7 columns</p>\n",
       "</div>"
      ],
      "text/plain": [
       "           Price           Adj Close               Close                High  \\\n",
       "0         Ticker                AMZN                AMZN                AMZN   \n",
       "1     2015-01-02  15.425999641418457  15.425999641418457  15.737500190734863   \n",
       "2     2015-01-05   15.10949993133545   15.10949993133545  15.418999671936035   \n",
       "3     2015-01-06   14.76449966430664   14.76449966430664  15.149999618530273   \n",
       "4     2015-01-07  14.920999526977539  14.920999526977539  15.064000129699707   \n",
       "...          ...                 ...                 ...                 ...   \n",
       "2493  2024-11-26  207.86000061035156  207.86000061035156               208.0   \n",
       "2494  2024-11-27  205.74000549316406  205.74000549316406  207.63999938964844   \n",
       "2495  2024-11-29  207.88999938964844  207.88999938964844   208.1999969482422   \n",
       "2496  2024-12-02   210.7100067138672   210.7100067138672  212.99000549316406   \n",
       "2497  2024-12-03  213.44000244140625  213.44000244140625  214.02000427246094   \n",
       "\n",
       "                     Low                Open    Volume  \n",
       "0                   AMZN                AMZN      AMZN  \n",
       "1     15.347999572753906  15.628999710083008  55664000  \n",
       "2     15.042499542236328  15.350500106811523  55484000  \n",
       "3     14.619000434875488  15.112000465393066  70380000  \n",
       "4     14.766500473022461              14.875  52806000  \n",
       "...                  ...                 ...       ...  \n",
       "2493   201.7899932861328  201.89999389648438  41673700  \n",
       "2494   205.0500030517578  206.97999572753906  28061600  \n",
       "2495  204.58999633789062   205.8300018310547  24892400  \n",
       "2496  209.50999450683594   209.9600067138672  39523200  \n",
       "2497  209.64999389648438  210.30999755859375  32140500  \n",
       "\n",
       "[2498 rows x 7 columns]"
      ]
     },
     "execution_count": 28,
     "metadata": {},
     "output_type": "execute_result"
    }
   ],
   "source": [
    "df.dropna()"
   ]
  },
  {
   "cell_type": "markdown",
   "metadata": {},
   "source": [
    "The is an error in the first name column , so let´s change \"Price\" to \"Date\"."
   ]
  },
  {
   "cell_type": "code",
   "execution_count": 52,
   "metadata": {},
   "outputs": [],
   "source": [
    "df=df.rename(columns={\"Price\":\"Date\"})"
   ]
  },
  {
   "cell_type": "markdown",
   "metadata": {},
   "source": [
    "Similarly, the first row is redundant because the only company we are analysing is Amazon, so let´s delete it."
   ]
  },
  {
   "cell_type": "code",
   "execution_count": 30,
   "metadata": {},
   "outputs": [],
   "source": [
    "df=df.drop(index=[0])"
   ]
  },
  {
   "cell_type": "code",
   "execution_count": 31,
   "metadata": {},
   "outputs": [
    {
     "data": {
      "text/html": [
       "<div>\n",
       "<style scoped>\n",
       "    .dataframe tbody tr th:only-of-type {\n",
       "        vertical-align: middle;\n",
       "    }\n",
       "\n",
       "    .dataframe tbody tr th {\n",
       "        vertical-align: top;\n",
       "    }\n",
       "\n",
       "    .dataframe thead th {\n",
       "        text-align: right;\n",
       "    }\n",
       "</style>\n",
       "<table border=\"1\" class=\"dataframe\">\n",
       "  <thead>\n",
       "    <tr style=\"text-align: right;\">\n",
       "      <th></th>\n",
       "      <th>Date</th>\n",
       "      <th>Adj Close</th>\n",
       "      <th>Close</th>\n",
       "      <th>High</th>\n",
       "      <th>Low</th>\n",
       "      <th>Open</th>\n",
       "      <th>Volume</th>\n",
       "    </tr>\n",
       "  </thead>\n",
       "  <tbody>\n",
       "    <tr>\n",
       "      <th>1</th>\n",
       "      <td>2015-01-02</td>\n",
       "      <td>15.425999641418457</td>\n",
       "      <td>15.425999641418457</td>\n",
       "      <td>15.737500190734863</td>\n",
       "      <td>15.347999572753906</td>\n",
       "      <td>15.628999710083008</td>\n",
       "      <td>55664000</td>\n",
       "    </tr>\n",
       "    <tr>\n",
       "      <th>2</th>\n",
       "      <td>2015-01-05</td>\n",
       "      <td>15.10949993133545</td>\n",
       "      <td>15.10949993133545</td>\n",
       "      <td>15.418999671936035</td>\n",
       "      <td>15.042499542236328</td>\n",
       "      <td>15.350500106811523</td>\n",
       "      <td>55484000</td>\n",
       "    </tr>\n",
       "    <tr>\n",
       "      <th>3</th>\n",
       "      <td>2015-01-06</td>\n",
       "      <td>14.76449966430664</td>\n",
       "      <td>14.76449966430664</td>\n",
       "      <td>15.149999618530273</td>\n",
       "      <td>14.619000434875488</td>\n",
       "      <td>15.112000465393066</td>\n",
       "      <td>70380000</td>\n",
       "    </tr>\n",
       "    <tr>\n",
       "      <th>4</th>\n",
       "      <td>2015-01-07</td>\n",
       "      <td>14.920999526977539</td>\n",
       "      <td>14.920999526977539</td>\n",
       "      <td>15.064000129699707</td>\n",
       "      <td>14.766500473022461</td>\n",
       "      <td>14.875</td>\n",
       "      <td>52806000</td>\n",
       "    </tr>\n",
       "    <tr>\n",
       "      <th>5</th>\n",
       "      <td>2015-01-08</td>\n",
       "      <td>15.02299976348877</td>\n",
       "      <td>15.02299976348877</td>\n",
       "      <td>15.156999588012695</td>\n",
       "      <td>14.805500030517578</td>\n",
       "      <td>15.015999794006348</td>\n",
       "      <td>61768000</td>\n",
       "    </tr>\n",
       "  </tbody>\n",
       "</table>\n",
       "</div>"
      ],
      "text/plain": [
       "         Date           Adj Close               Close                High  \\\n",
       "1  2015-01-02  15.425999641418457  15.425999641418457  15.737500190734863   \n",
       "2  2015-01-05   15.10949993133545   15.10949993133545  15.418999671936035   \n",
       "3  2015-01-06   14.76449966430664   14.76449966430664  15.149999618530273   \n",
       "4  2015-01-07  14.920999526977539  14.920999526977539  15.064000129699707   \n",
       "5  2015-01-08   15.02299976348877   15.02299976348877  15.156999588012695   \n",
       "\n",
       "                  Low                Open    Volume  \n",
       "1  15.347999572753906  15.628999710083008  55664000  \n",
       "2  15.042499542236328  15.350500106811523  55484000  \n",
       "3  14.619000434875488  15.112000465393066  70380000  \n",
       "4  14.766500473022461              14.875  52806000  \n",
       "5  14.805500030517578  15.015999794006348  61768000  "
      ]
     },
     "execution_count": 31,
     "metadata": {},
     "output_type": "execute_result"
    }
   ],
   "source": [
    "df.head(5)"
   ]
  },
  {
   "cell_type": "markdown",
   "metadata": {},
   "source": [
    "Once the exploration of the table and data has been completed, and after confirming that there are no values \n",
    "that could hinder the analysis (such as null or incomplete values), we will proceed to study \n",
    "how the variables are related and analyze price trends with respect to seasons and periods."
   ]
  },
  {
   "cell_type": "markdown",
   "metadata": {},
   "source": [
    "How i mentionated in the top of the study, it´s necesary to transform the \"oject\" data to \"numeric."
   ]
  },
  {
   "cell_type": "code",
   "execution_count": 46,
   "metadata": {},
   "outputs": [],
   "source": [
    "df[\"Date\"]=pd.to_datetime(df[\"Date\"])\n",
    "df['High'] = pd.to_numeric(df['High'])\n",
    "df['Low'] = pd.to_numeric(df['Low'])\n"
   ]
  },
  {
   "cell_type": "markdown",
   "metadata": {},
   "source": [
    "Since we don´t have a unique price, i have chosen to take the *mean* of high price and low price."
   ]
  },
  {
   "cell_type": "code",
   "execution_count": 45,
   "metadata": {},
   "outputs": [],
   "source": [
    "\n",
    "df[\"Month\"]=df[\"Date\"].dt.to_period(\"M\")\n",
    "df[\"Daily_avg_price\"]=(df[\"High\"] + df[\"Low\"])/2"
   ]
  },
  {
   "cell_type": "code",
   "execution_count": 59,
   "metadata": {},
   "outputs": [
    {
     "name": "stdout",
     "output_type": "stream",
     "text": [
      "Month\n",
      "2015-01     15.145625\n",
      "2015-02     18.741921\n",
      "2015-03     18.780659\n",
      "2015-04     19.726655\n",
      "2015-05     21.363925\n",
      "              ...    \n",
      "2024-08    172.152955\n",
      "2024-09    184.714999\n",
      "2024-10    186.847828\n",
      "2024-11    204.025000\n",
      "2024-12    211.542500\n",
      "Freq: M, Name: Daily_avg_price, Length: 120, dtype: float64\n"
     ]
    }
   ],
   "source": [
    "monthly_avg_price=df.groupby(\"Month\")[\"Daily_avg_price\"].mean()\n",
    "print(monthly_avg_price)"
   ]
  },
  {
   "cell_type": "markdown",
   "metadata": {},
   "source": [
    "Since there are many years, we will divide the data and take only the annual average."
   ]
  },
  {
   "cell_type": "code",
   "execution_count": 60,
   "metadata": {},
   "outputs": [],
   "source": [
    "df[\"Year\"]=df[\"Date\"].dt.year"
   ]
  },
  {
   "cell_type": "code",
   "execution_count": 61,
   "metadata": {},
   "outputs": [
    {
     "name": "stdout",
     "output_type": "stream",
     "text": [
      "Year\n",
      "2015     23.901959\n",
      "2016     34.961280\n",
      "2017     48.381321\n",
      "2018     82.067009\n",
      "2019     89.392685\n",
      "2020    133.980081\n",
      "2021    167.254978\n",
      "2022    126.166981\n",
      "2023    121.262380\n",
      "2024    181.197704\n",
      "Name: Daily_avg_price, dtype: float64\n"
     ]
    }
   ],
   "source": [
    "annual_avg_price=df.groupby(\"Year\")[\"Daily_avg_price\"].mean()\n",
    "print(annual_avg_price)"
   ]
  },
  {
   "cell_type": "code",
   "execution_count": 62,
   "metadata": {},
   "outputs": [
    {
     "name": "stdout",
     "output_type": "stream",
     "text": [
      "   Year  Daily_avg_price\n",
      "0  2015        23.901959\n",
      "1  2016        34.961280\n",
      "2  2017        48.381321\n",
      "3  2018        82.067009\n",
      "4  2019        89.392685\n"
     ]
    }
   ],
   "source": [
    "annual_avg_price_df=annual_avg_price.reset_index()\n",
    "print(annual_avg_price_df.head(5))"
   ]
  },
  {
   "cell_type": "code",
   "execution_count": 63,
   "metadata": {},
   "outputs": [
    {
     "data": {
      "image/png": "[encoded data removed]",
      "text/plain": [
       "<Figure size 640x480 with 1 Axes>"
      ]
     },
     "metadata": {},
     "output_type": "display_data"
    }
   ],
   "source": [
    "\n",
    "sns.barplot(x=\"Year\",y=\"Daily_avg_price\",data=annual_avg_price_df,color=\"green\")\n",
    "plt.title(\"Avg price by year\")\n",
    "plt.xlabel(\"years\")\n",
    "plt.ylabel(\"avg price ($)\")\n",
    "plt.show()"
   ]
  },
  {
   "cell_type": "markdown",
   "metadata": {},
   "source": [
    "In the same way, let´s explore how the volume behaves."
   ]
  },
  {
   "cell_type": "code",
   "execution_count": 72,
   "metadata": {},
   "outputs": [],
   "source": [
    "df[\"Volume\"]=pd.to_numeric(df[\"Volume\"]/1e7)"
   ]
  },
  {
   "cell_type": "code",
   "execution_count": 74,
   "metadata": {},
   "outputs": [
    {
     "name": "stdout",
     "output_type": "stream",
     "text": [
      "Year\n",
      "2015     7.596048\n",
      "2016     8.244098\n",
      "2017     7.033509\n",
      "2018    11.297989\n",
      "2019     7.735318\n",
      "2020     9.861982\n",
      "2021     6.776334\n",
      "2022     7.608070\n",
      "2023     5.883159\n",
      "2024     4.136707\n",
      "Name: Volume, dtype: float64\n"
     ]
    }
   ],
   "source": [
    "avg_volume_year=df.groupby(\"Year\")[\"Volume\"].mean()\n",
    "print(avg_volume_year)"
   ]
  },
  {
   "cell_type": "code",
   "execution_count": 76,
   "metadata": {},
   "outputs": [],
   "source": [
    "avg_volume_year_df=avg_volume_year.reset_index()"
   ]
  },
  {
   "cell_type": "code",
   "execution_count": 77,
   "metadata": {},
   "outputs": [
    {
     "data": {
      "image/png": "[encoded data removed]",
      "text/plain": [
       "<Figure size 640x480 with 1 Axes>"
      ]
     },
     "metadata": {},
     "output_type": "display_data"
    }
   ],
   "source": [
    "plt.Figure(figsize=(10,5))\n",
    "sns.lineplot(x=\"Year\",y=\"Volume\",data=avg_volume_year_df,color=\"skyblue\", marker=\"o\")\n",
    "plt.title(\"annual volume\")\n",
    "plt.xlabel(\"Yeas\")\n",
    "plt.ylabel(\"Volume (Billion $)\")\n",
    "plt.show()\n"
   ]
  },
  {
   "cell_type": "code",
   "execution_count": 106,
   "metadata": {},
   "outputs": [
    {
     "name": "stdout",
     "output_type": "stream",
     "text": [
      "-0.3897\n"
     ]
    }
   ],
   "source": [
    "correlation=(annual_avg_price_df[\"Daily_avg_price\"]).corr(avg_volume_year_df[\"Volume\"])\n",
    "print(round(correlation,4))"
   ]
  },
  {
   "cell_type": "code",
   "execution_count": 105,
   "metadata": {},
   "outputs": [
    {
     "name": "stdout",
     "output_type": "stream",
     "text": [
      "1.957\n"
     ]
    }
   ],
   "source": [
    "standard_deviation=avg_volume_year_df.iloc[2:6 , 1].std()\n",
    "print(round(standard_deviation,4))"
   ]
  },
  {
   "cell_type": "code",
   "execution_count": 103,
   "metadata": {},
   "outputs": [
    {
     "name": "stdout",
     "output_type": "stream",
     "text": [
      "658.146 %\n"
     ]
    }
   ],
   "source": [
    "Evolution_of_price=((181.197-23.90)/23.90)*100 \n",
    "print(round(Evolution_of_price,3), \"%\")"
   ]
  },
  {
   "cell_type": "markdown",
   "metadata": {},
   "source": [
    "Once the study was made, let´s traduces the data in information:\n",
    "\n",
    "- As we can apreciate, the mean price have two big jumps, the firts was produced from 20217 to 2018, when the price increases around 95.23% , \n",
    "  the second one, is once again a growth from 2019 to 2021 around 87.10% .\n",
    "\n",
    "- On the other hand, the volume experienced significant volatility between 2017 and 2020 , which could indicate factors related to the economy or internal issues within the company. Finally, since 2021, the volume has decreased by around 39%.\n",
    "\n",
    "- In statistical terms, Amazon's stock price growth over the past 8 years is approximately 658.14%. The correlation between the 'annual average price' and 'volume' is somewhat weak at -0.3897. Additionally, we can observe the significant 'rally' between 2017 and 2020, which resulted in a standard deviation of $1.95 trillion."
   ]
  }
 ],
 "metadata": {
  "kernelspec": {
   "display_name": ".venv",
   "language": "python",
   "name": "python3"
  },
  "language_info": {
   "codemirror_mode": {
    "name": "ipython",
    "version": 3
   },
   "file_extension": ".py",
   "mimetype": "text/x-python",
   "name": "python",
   "nbconvert_exporter": "python",
   "pygments_lexer": "ipython3",
   "version": "3.12.6"
  }
 },
 "nbformat": 4,
 "nbformat_minor": 2
}
